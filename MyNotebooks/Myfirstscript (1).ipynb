{
  "nbformat": 4,
  "nbformat_minor": 0,
  "metadata": {
    "colab": {
      "name": "Myfirstscript.ipynb",
      "provenance": [],
      "collapsed_sections": []
    },
    "kernelspec": {
      "name": "python3",
      "display_name": "Python 3"
    }
  },
  "cells": [
    {
      "cell_type": "markdown",
      "metadata": {
        "id": "-paBENGKgfoq",
        "colab_type": "text"
      },
      "source": [
        "**In this script, we:**\n",
        "1. Connect Colab to our Google Drive\n",
        "2. Read a file from Github as a RAW file, into a Pandas data frame\n",
        "3. Summarize that data\n",
        "4. Read a file from Google Drive into a separate Pandas data frame"
      ]
    },
    {
      "cell_type": "markdown",
      "metadata": {
        "id": "X3f89sZ3V8La",
        "colab_type": "text"
      },
      "source": [
        "# Connect Colab to Google Drive\n"
      ]
    },
    {
      "cell_type": "code",
      "metadata": {
        "id": "7MiPAKgYW04z",
        "colab_type": "code",
        "colab": {
          "base_uri": "https://localhost:8080/",
          "height": 34
        },
        "outputId": "affe5c1c-dbc7-4e4c-e25e-f5e6e01ff61f"
      },
      "source": [
        "# https://drive.google.com/drive/folders/1SC6niq05OyGLxiUZHpbd0GABGfbmeB6F?usp=sharing\n",
        "\n",
        "a=1\n",
        "print(a)"
      ],
      "execution_count": null,
      "outputs": [
        {
          "output_type": "stream",
          "text": [
            "1\n"
          ],
          "name": "stdout"
        }
      ]
    },
    {
      "cell_type": "code",
      "metadata": {
        "id": "oJ9K03CUWe5T",
        "colab_type": "code",
        "colab": {
          "base_uri": "https://localhost:8080/",
          "height": 54
        },
        "outputId": "5d102a74-4606-4dcf-cf38-81a80ae0e78d"
      },
      "source": [
        "from google.colab import drive\n",
        "drive.mount('/content/drive')"
      ],
      "execution_count": null,
      "outputs": [
        {
          "output_type": "stream",
          "text": [
            "Drive already mounted at /content/drive; to attempt to forcibly remount, call drive.mount(\"/content/drive\", force_remount=True).\n"
          ],
          "name": "stdout"
        }
      ]
    },
    {
      "cell_type": "markdown",
      "metadata": {
        "id": "vzFT1W2lWV2I",
        "colab_type": "text"
      },
      "source": [
        "# Read a File From Github as a RAW file into a Pandas Data Frame"
      ]
    },
    {
      "cell_type": "code",
      "metadata": {
        "id": "jnlhK0iNXjiD",
        "colab_type": "code",
        "colab": {}
      },
      "source": [
        "import pandas as pd\n",
        "ChicagoData = pd.read_csv('https://raw.githubusercontent.com/menonpg/covid19_Chicago/master/timeSeries_COVID19_Chicago.csv')"
      ],
      "execution_count": 3,
      "outputs": []
    },
    {
      "cell_type": "markdown",
      "metadata": {
        "id": "8GCtiFYCWLsI",
        "colab_type": "text"
      },
      "source": [
        "# Summarize The Above Data"
      ]
    },
    {
      "cell_type": "code",
      "metadata": {
        "id": "zGYhkGx3Xn-w",
        "colab_type": "code",
        "colab": {
          "base_uri": "https://localhost:8080/",
          "height": 221
        },
        "outputId": "e662f7d3-730c-4b9e-e18c-b660d420ecaa"
      },
      "source": [
        "print(\"Min values by column \\n\" + str(ChicagoData.aggregate( 'min' )) + '\\n\\n')\n",
        "print(\"Max values by column \\n\" + str(ChicagoData.aggregate( 'max' )))"
      ],
      "execution_count": 13,
      "outputs": [
        {
          "output_type": "stream",
          "text": [
            "Min values by column \n",
            "Cases            598\n",
            "Deaths             4\n",
            "Date      2020-03-24\n",
            "dtype: object\n",
            "\n",
            "\n",
            "Max values by column \n",
            "Cases          52813\n",
            "Deaths          2623\n",
            "Date      2020-07-04\n",
            "dtype: object\n"
          ],
          "name": "stdout"
        }
      ]
    },
    {
      "cell_type": "code",
      "metadata": {
        "id": "suyKrx7Vb6LA",
        "colab_type": "code",
        "colab": {}
      },
      "source": [
        "ChicagoData.to_csv(\"timeSeries_COVID19_Chicago.csv\", index=False)"
      ],
      "execution_count": 5,
      "outputs": []
    },
    {
      "cell_type": "markdown",
      "metadata": {
        "id": "OWsL7iDzXNsR",
        "colab_type": "text"
      },
      "source": [
        "# Read a File from Google Drive into a Separate Pandas Data Frame"
      ]
    },
    {
      "cell_type": "code",
      "metadata": {
        "id": "bGMxtAmOeOpq",
        "colab_type": "code",
        "colab": {}
      },
      "source": [
        "! mkdir /content/drive/My\\ Drive/DATA/"
      ],
      "execution_count": null,
      "outputs": []
    },
    {
      "cell_type": "code",
      "metadata": {
        "id": "y9oxeddhbnty",
        "colab_type": "code",
        "colab": {}
      },
      "source": [
        "import pandas as pd\n",
        "ChicagoData_fromDrive = pd.read_csv('/content/drive/My Drive/DATA/timeSeries_COVID19_Chicago.csv')"
      ],
      "execution_count": null,
      "outputs": []
    },
    {
      "cell_type": "code",
      "metadata": {
        "colab_type": "code",
        "id": "l0esRTFKbpDg",
        "colab": {}
      },
      "source": [
        "print(\"Min values by column \\n\" + str(ChicagoData_fromDrive.aggregate( 'min' )) + '\\n\\n')\n",
        "print(\"Max values by column \\n\" + str(ChicagoData_fromDrive.aggregate( 'max' )))"
      ],
      "execution_count": null,
      "outputs": []
    },
    {
      "cell_type": "code",
      "metadata": {
        "id": "AWwO3kt_bl0v",
        "colab_type": "code",
        "colab": {}
      },
      "source": [
        ""
      ],
      "execution_count": null,
      "outputs": []
    }
  ]
}